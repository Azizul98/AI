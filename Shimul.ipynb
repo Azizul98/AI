{
  "nbformat": 4,
  "nbformat_minor": 0,
  "metadata": {
    "colab": {
      "provenance": [],
      "include_colab_link": true
    },
    "kernelspec": {
      "name": "python3",
      "display_name": "Python 3"
    },
    "language_info": {
      "name": "python"
    }
  },
  "cells": [
    {
      "cell_type": "markdown",
      "metadata": {
        "id": "view-in-github",
        "colab_type": "text"
      },
      "source": [
        "<a href=\"https://colab.research.google.com/github/Azizul98/AI/blob/main/Shimul.ipynb\" target=\"_parent\"><img src=\"https://colab.research.google.com/assets/colab-badge.svg\" alt=\"Open In Colab\"/></a>"
      ]
    },
    {
      "cell_type": "code",
      "execution_count": null,
      "metadata": {
        "colab": {
          "base_uri": "https://localhost:8080/"
        },
        "id": "o1CvzeEVf9I5",
        "outputId": "e01e6880-c894-45cb-ce04-9e8b2544df2e"
      },
      "outputs": [
        {
          "output_type": "stream",
          "name": "stdout",
          "text": [
            "Sample Python Program...\n"
          ]
        }
      ],
      "source": [
        "print(\"Sample Python Program...\")"
      ]
    },
    {
      "cell_type": "markdown",
      "source": [
        "Sample SUM"
      ],
      "metadata": {
        "id": "d6LnBiZKhwk2"
      }
    },
    {
      "cell_type": "code",
      "source": [
        "a=10\n",
        "b=20\n",
        "c=a+b\n",
        "print(\"sum = \",c)"
      ],
      "metadata": {
        "colab": {
          "base_uri": "https://localhost:8080/"
        },
        "id": "wO6Y6nP6hENY",
        "outputId": "653396f7-775b-42c7-c693-a07153cd8bda"
      },
      "execution_count": null,
      "outputs": [
        {
          "output_type": "stream",
          "name": "stdout",
          "text": [
            "sum =  30\n"
          ]
        }
      ]
    },
    {
      "cell_type": "code",
      "source": [],
      "metadata": {
        "id": "E6dC73JxhPnb"
      },
      "execution_count": null,
      "outputs": []
    }
  ]
}